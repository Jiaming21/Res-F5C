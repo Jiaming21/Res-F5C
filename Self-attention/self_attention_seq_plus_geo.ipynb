{
 "cells": [
  {
   "cell_type": "code",
   "execution_count": null,
   "id": "cb3ef475",
   "metadata": {},
   "outputs": [],
   "source": [
    "import pandas as pd\n",
    "import numpy as np\n",
    "import torch\n",
    "import torch.nn as nn\n",
    "import torch.optim as optim\n",
    "import torch.optim.lr_scheduler as lr_scheduler\n",
    "import matplotlib.pyplot as plt\n",
    "from sklearn.metrics import roc_curve, auc\n",
    "from sklearn.metrics import confusion_matrix\n",
    "import math\n",
    "from sklearn.model_selection import KFold\n",
    "\n",
    "# pos = pd.read_csv('./pos_encoding_new.csv')\n",
    "# neg = pd.read_csv('./neg_encoding_new.csv')\n",
    "# print(pos) # 4列\n",
    "\n",
    "pos_geo = pd.read_csv('/Users/jiaming/Desktop/self_attention/datas/pos_domain_encoding.csv')\n",
    "pos_table = pd.read_csv('/Users/jiaming/Desktop/self_attention/datas/pos_encoding_OH_ND.csv')\n",
    "\n",
    "neg_geo = pd.read_csv('/Users/jiaming/Desktop/self_attention/datas/neg_domain_encoding.csv')[:1892]\n",
    "neg_table = pd.read_csv('/Users/jiaming/Desktop/self_attention/datas/neg_encoding_OH_ND.csv')[:1892]"
   ]
  },
  {
   "cell_type": "code",
   "execution_count": null,
   "id": "2bbea858",
   "metadata": {},
   "outputs": [],
   "source": [
    "# 去掉首列index\n",
    "pos_geo = pos_geo.iloc[:,1:]\n",
    "pos_table = pos_table.iloc[:,1:]\n",
    "\n",
    "neg_geo = neg_geo.iloc[:,1:]\n",
    "neg_table = neg_table.iloc[:,1:]\n",
    "\n",
    "pos = np.concatenate((pos_table, pos_geo), axis=1)\n",
    "neg = np.concatenate((neg_table, neg_geo), axis=1)\n",
    "\n",
    "raw_datas = np.concatenate((pos, neg), axis=0)\n",
    "raw_labels = np.concatenate(([1] * pos.shape[0], [0] * neg.shape[0]), axis=0)"
   ]
  },
  {
   "cell_type": "code",
   "execution_count": null,
   "id": "cac1773e",
   "metadata": {},
   "outputs": [],
   "source": [
    "pos.shape[1]"
   ]
  },
  {
   "cell_type": "code",
   "execution_count": null,
   "id": "5fc78805",
   "metadata": {},
   "outputs": [],
   "source": [
    "# 将变量按照每9列进行分割\n",
    "pos_arr = np.array_split(pos,int(pos.shape[1] / 5),axis=1) # 9改41\n",
    "pos_arr = np.stack(pos_arr)\n",
    "pos_arr = pos_arr.reshape((1892, 49, 5))\n",
    "\n",
    "neg_arr = np.array_split(neg,int(neg.shape[1] / 5),axis=1)\n",
    "neg_arr = np.stack(neg_arr)\n",
    "neg_arr = neg_arr.reshape((1892, 49, 5))"
   ]
  },
  {
   "cell_type": "code",
   "execution_count": null,
   "id": "ee8c0511",
   "metadata": {},
   "outputs": [],
   "source": [
    "#将阳性数据和阴性数据拼接\n",
    "raw_data = np.concatenate((pos_arr,neg_arr),axis = 0)\n",
    "raw_labels = np.concatenate(([1] * pos_arr.shape[0], [0] * neg_arr.shape[0]),axis = 0)"
   ]
  },
  {
   "cell_type": "code",
   "execution_count": null,
   "id": "2edbf602",
   "metadata": {},
   "outputs": [],
   "source": [
    "#shuffle the data\n",
    "np.random.seed(123)\n",
    "indices = np.random.permutation(raw_labels.shape[0])\n",
    "data_with_extra = raw_data[indices,:,:]\n",
    "labels = raw_labels[indices]"
   ]
  },
  {
   "cell_type": "code",
   "execution_count": null,
   "id": "54de27ba",
   "metadata": {},
   "outputs": [],
   "source": [
    "# 新建channel维度\n",
    "data_with_extra = np.expand_dims(data_with_extra,1)\n",
    "# data_without_extra = np.expand_dims(data_without_extra,1)\n",
    "labels = np.expand_dims(labels,-1)"
   ]
  },
  {
   "cell_type": "code",
   "execution_count": null,
   "id": "c3e6f822",
   "metadata": {},
   "outputs": [],
   "source": [
    "#训练集、验证集的划分\n",
    "def train_test_split(data,label,train_size = 0.8):\n",
    "    if data.shape[0] != label.shape[0]:\n",
    "        return\n",
    "    else:\n",
    "        num_samples = data.shape[0]\n",
    "        train_sample = int(num_samples * train_size)\n",
    "\n",
    "        train_data = data[:train_sample]\n",
    "        train_labels = label[:train_sample]\n",
    "\n",
    "        test_data = data[train_sample:]\n",
    "        test_labels = label[train_sample:]\n",
    "\n",
    "        return(train_data,train_labels,test_data,test_labels)\n",
    "    \n",
    "(train_data,train_labels,test_data,test_labels) = train_test_split(data_with_extra, labels)\n",
    "print(train_data.shape)"
   ]
  },
  {
   "cell_type": "code",
   "execution_count": null,
   "id": "b8907e2a",
   "metadata": {},
   "outputs": [],
   "source": [
    "device = torch.device(\"cuda\" if torch.cuda.is_available() else \"cpu\")"
   ]
  },
  {
   "cell_type": "code",
   "execution_count": null,
   "id": "aab2fdab",
   "metadata": {},
   "outputs": [],
   "source": [
    "# 加入例如自注意层的神经网络\n",
    "class Net_sa(nn.Module):\n",
    "    class SelfAttention(nn.Module):\n",
    "        def __init__(self, input_dim):\n",
    "            super(Net_sa.SelfAttention, self).__init__()\n",
    "            self.input_dim = input_dim\n",
    "            self.query = nn.Linear(input_dim, input_dim)\n",
    "            self.key = nn.Linear(input_dim, input_dim)\n",
    "            self.value = nn.Linear(input_dim, input_dim)\n",
    "            self.softmax = nn.Softmax(dim=-1)\n",
    "        def forward(self, x):\n",
    "            query = self.query(x)\n",
    "            key = self.key(x)\n",
    "            value = self.value(x)\n",
    "            # 下面是自注意层 的 scores、 query、key的固定计算方法\n",
    "            scores = torch.matmul(query, key.transpose(-2, -1)) / torch.sqrt(torch.tensor(self.input_dim, dtype=torch.float32))\n",
    "            attention_weights = self.softmax(scores)\n",
    "            output = torch.matmul(attention_weights, value)\n",
    "\n",
    "            return output\n",
    "    def __init__(self):\n",
    "        super(Net_sa, self).__init__()\n",
    "        \n",
    "        self.conv = nn.Sequential(\n",
    "            nn.Conv2d(1, 2, kernel_size=3, stride=1, padding=1),\n",
    "            nn.ReLU(),\n",
    "            nn.Dropout(0.6)\n",
    "        )\n",
    "        self.attention = self.SelfAttention(2 * 49 * 5) \n",
    "        self.seq = nn.Sequential(\n",
    "            nn.Linear(2 * 49 * 5, 25),\n",
    "            nn.ReLU(),\n",
    "            nn.Dropout(0.6),\n",
    "            nn.Linear(25, 3),\n",
    "            nn.ReLU(),\n",
    "            nn.Dropout(0),\n",
    "            nn.Linear(3, 1),\n",
    "            nn.Sigmoid()  )\n",
    "        \n",
    "    def forward(self, x):\n",
    "        x = self.conv(x)\n",
    "        x = x.view(x.size(0),-1)\n",
    "        x = self.attention(x)\n",
    "        x = self.seq(x)\n",
    "        return x"
   ]
  },
  {
   "cell_type": "code",
   "execution_count": null,
   "id": "73ab10d3",
   "metadata": {},
   "outputs": [],
   "source": [
    "# 固定随机种子\n",
    "seed = 42\n",
    "torch.manual_seed(seed)\n",
    "torch.cuda.manual_seed(seed)\n",
    "# 创建模型实例\n",
    "model = Net_sa()\n",
    "# 定义损失函数\n",
    "criterion = nn.BCELoss()\n",
    "# 定义优化器\n",
    "optimizer = optim.Adam(model.parameters(), lr=0.001)\n",
    "scheduler = lr_scheduler.StepLR(optimizer, step_size=10, gamma=0.93)\n",
    "\n",
    "# 设置训练的epochs\n",
    "num_epochs = 50\n",
    "kf = KFold(n_splits=5)\n",
    "\n",
    "for train_indx, val_indx in kf.split(X=train_data):\n",
    "    \n",
    "    train_data_splited = torch.from_numpy(train_data[train_indx,:,:,:]).to(device).type(torch.float)\n",
    "    train_labels_splited = torch.from_numpy(train_labels[train_indx]).to(device).type(torch.float)\n",
    "    \n",
    "    val_data_splited = torch.from_numpy(train_data[val_indx,:,:,:]).type(torch.float)\n",
    "    val_labels_splited = torch.from_numpy(train_labels[val_indx]).type(torch.float)\n",
    "        \n",
    "    #inputs_data = train_data_splited\n",
    "    #targets_labels = train_labels_splited\n",
    "    \n",
    "    model = model.to(device)\n",
    "\n",
    "    for epoch in range(num_epochs):\n",
    "        outputs = model(train_data_splited)\n",
    "        loss = criterion(outputs, train_labels_splited)\n",
    "        optimizer.zero_grad()\n",
    "        loss.backward()\n",
    "        optimizer.step()\n",
    "        scheduler.step()\n",
    "        train_losses.append(loss.item())\n",
    "        if (epoch + 1) % 10 == 0:\n",
    "            print(f\"Epoch {epoch+1}/{num_epochs}, Loss: {loss.item()}\")\n",
    "    \n",
    "        with torch.no_grad():\n",
    "            preds = model(val_data_splited)"
   ]
  },
  {
   "cell_type": "code",
   "execution_count": null,
   "id": "adefbfa1",
   "metadata": {},
   "outputs": [],
   "source": [
    "def predict(model, input):\n",
    "    data = torch.from_numpy(input).to(device).type(torch.float)\n",
    "    output = model(data)\n",
    "    output = output.detach().cpu().numpy()\n",
    "    return output\n",
    "\n",
    "test_preds = predict(model,test_data)"
   ]
  },
  {
   "cell_type": "code",
   "execution_count": null,
   "id": "2d6c2ae2",
   "metadata": {},
   "outputs": [],
   "source": [
    "def metrics_output(preds,labels):\n",
    "    # 这里的参数是，label是（n，1）形状的二分类变量，pred是(n,1)形状的预测值\n",
    "    metrics_fpr, metrics_tpr, thresholds = roc_curve(labels.squeeze(-1), preds.squeeze(-1))\n",
    "    roc_auc = auc(metrics_fpr, metrics_tpr)\n",
    "    print(\"AUC是：{}\".format(roc_auc))\n",
    "\n",
    "    # 找到最佳阈值\n",
    "    best_threshold = thresholds[np.argmax(metrics_tpr - metrics_fpr)]\n",
    "    print(\"最佳阈值是：{}\".format(best_threshold))\n",
    "\n",
    "    # 利用上述的阈值变换为二分类变量\n",
    "    test_pred_binary = np.where(preds > best_threshold, 1 , 0)\n",
    "\n",
    "    metrics_tn, metrics_fp, metrics_fn, metrics_tp = confusion_matrix(np.squeeze(labels,axis=-1), np.squeeze(test_pred_binary,axis=-1)).ravel()\n",
    "    metrics_sn = metrics_tp / (metrics_tp + metrics_fn)\n",
    "    metrics_sp = metrics_tn / (metrics_tn + metrics_fp)\n",
    "    metrics_ACC = (metrics_tp + metrics_tn) / (metrics_tn + metrics_fp + metrics_fn + metrics_tp)\n",
    "    metrics_pre = metrics_tp / (metrics_tp + metrics_fp)\n",
    "    metrics_F1 = 2 * (metrics_pre * metrics_sn) / (metrics_pre + metrics_sn)\n",
    "    metrics_MCC = (metrics_tp * metrics_tn - metrics_fp * metrics_fn) / math.sqrt((metrics_tp + metrics_fp)*\n",
    "                                                                                  (metrics_tp + metrics_fn)*\n",
    "                                                                                  (metrics_tn + metrics_fp)*\n",
    "                                                                                  (metrics_tn + metrics_fn))\n",
    "    \n",
    "    return (metrics_fpr, metrics_tpr,roc_auc, metrics_sn, metrics_sp, metrics_ACC, metrics_F1, metrics_MCC)\n"
   ]
  },
  {
   "cell_type": "code",
   "execution_count": null,
   "id": "fd8e1ca2",
   "metadata": {},
   "outputs": [],
   "source": [
    "# 注意这里的变量名在用的时候可以区分一下，运行后默认是测试集的各种指标\n",
    "metrics_fpr, metrics_tpr, roc_auc, metrics_sn, metrics_sp, metrics_ACC, metrics_F1, metrics_MCC = metrics_output(preds,val_labels_splited)\n",
    "print(roc_auc, metrics_sn, metrics_sp, metrics_ACC, metrics_MCC)\n",
    "metrics_fpr, metrics_tpr, roc_auc, metrics_sn, metrics_sp, metrics_ACC, metrics_F1, metrics_MCC = metrics_output(test_preds,test_labels)\n",
    "print(roc_auc, metrics_sn, metrics_sp, metrics_ACC, metrics_MCC)"
   ]
  },
  {
   "cell_type": "code",
   "execution_count": null,
   "id": "d6bf9ad0",
   "metadata": {},
   "outputs": [],
   "source": [
    "plt.figure()\n",
    "plt.plot(metrics_fpr, metrics_tpr, color='darkorange', label='DL model (AUC = %0.2f)' % roc_auc)\n",
    "plt.plot([0, 1], [0, 1], color='navy', linestyle='--')\n",
    "plt.xlim([0.0, 1.0])\n",
    "plt.ylim([0.0, 1.05])\n",
    "plt.xlabel('False Positive Rate')\n",
    "plt.ylabel('True Positive Rate')\n",
    "plt.title('Receiver Operating Characteristic')\n",
    "plt.legend(loc=\"lower right\")\n",
    "plt.show()\n"
   ]
  },
  {
   "cell_type": "code",
   "execution_count": null,
   "id": "cb9b0ed3",
   "metadata": {},
   "outputs": [],
   "source": [
    "torch.save(model.state_dict(), 'self_attention_seq_plus_geo_parameters.pth')"
   ]
  },
  {
   "cell_type": "code",
   "execution_count": null,
   "id": "c301bb51",
   "metadata": {},
   "outputs": [],
   "source": []
  }
 ],
 "metadata": {
  "kernelspec": {
   "display_name": "Python 3 (ipykernel)",
   "language": "python",
   "name": "python3"
  },
  "language_info": {
   "codemirror_mode": {
    "name": "ipython",
    "version": 3
   },
   "file_extension": ".py",
   "mimetype": "text/x-python",
   "name": "python",
   "nbconvert_exporter": "python",
   "pygments_lexer": "ipython3",
   "version": "3.8.17"
  }
 },
 "nbformat": 4,
 "nbformat_minor": 5
}
