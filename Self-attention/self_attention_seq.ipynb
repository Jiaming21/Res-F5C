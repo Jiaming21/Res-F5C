{
 "cells": [
  {
   "cell_type": "code",
   "execution_count": null,
   "metadata": {},
   "outputs": [],
   "source": [
    "import pandas as pd\n",
    "import numpy as np\n",
    "import torch\n",
    "import torch.nn as nn\n",
    "import torch.optim as optim\n",
    "import torch.optim.lr_scheduler as lr_scheduler\n",
    "import matplotlib.pyplot as plt\n",
    "from sklearn.metrics import roc_curve, auc\n",
    "from sklearn.metrics import confusion_matrix\n",
    "import math\n",
    "from sklearn.model_selection import KFold\n",
    "\n",
    "pos = pd.read_csv('/Users/jiaming/Desktop/self_attention/datas/pos_domain_encoding.csv')\n",
    "pos = pd.read_csv('/Users/jiaming/Desktop/self_attention/datas/pos_encoding_OH_ND.csv')\n",
    "\n",
    "neg = pd.read_csv('/Users/jiaming/Desktop/self_attention/datas/neg_domain_encoding.csv')[:1892]\n",
    "neg = pd.read_csv('/Users/jiaming/Desktop/self_attention/datas/neg_encoding_OH_ND.csv')[:1892]"
   ]
  },
  {
   "cell_type": "code",
   "execution_count": null,
   "metadata": {},
   "outputs": [],
   "source": [
    "pos = pos.iloc[:,1:]\n",
    "neg = neg.iloc[:,1:]"
   ]
  },
  {
   "cell_type": "code",
   "execution_count": null,
   "metadata": {},
   "outputs": [],
   "source": [
    "pos.shape[1]"
   ]
  },
  {
   "cell_type": "code",
   "execution_count": null,
   "metadata": {},
   "outputs": [],
   "source": [
    "pos_arr = np.array_split(pos,int(pos.shape[1] / 5),axis=1) # 9改41\n",
    "pos_arr = np.stack(pos_arr)\n",
    "pos_arr = pos_arr.reshape((1892, 41, 5))\n",
    "\n",
    "neg_arr = np.array_split(neg,int(neg.shape[1] / 5),axis=1)\n",
    "neg_arr = np.stack(neg_arr)\n",
    "neg_arr = neg_arr.reshape((1892, 41, 5))"
   ]
  },
  {
   "cell_type": "code",
   "execution_count": null,
   "metadata": {},
   "outputs": [],
   "source": [
    "raw_data = np.concatenate((pos_arr,neg_arr),axis = 0)\n",
    "raw_labels = np.concatenate(([1] * pos_arr.shape[0], [0] * neg_arr.shape[0]),axis = 0)"
   ]
  },
  {
   "cell_type": "code",
   "execution_count": null,
   "metadata": {},
   "outputs": [],
   "source": [
    "np.random.seed(123)\n",
    "indices = np.random.permutation(raw_labels.shape[0])\n",
    "data_with_extra = raw_data[indices,:,:]\n",
    "labels = raw_labels[indices]"
   ]
  },
  {
   "cell_type": "code",
   "execution_count": null,
   "metadata": {},
   "outputs": [],
   "source": [
    "data_with_extra = np.expand_dims(data_with_extra,1)\n",
    "labels = np.expand_dims(labels,-1)"
   ]
  },
  {
   "cell_type": "code",
   "execution_count": null,
   "metadata": {},
   "outputs": [],
   "source": [
    "def train_test_split(data,label,train_size = 0.8):\n",
    "    if data.shape[0] != label.shape[0]:\n",
    "        return\n",
    "    else:\n",
    "        num_samples = data.shape[0]\n",
    "        train_sample = int(num_samples * train_size)\n",
    "\n",
    "        train_data = data[:train_sample]\n",
    "        train_labels = label[:train_sample]\n",
    "\n",
    "        test_data = data[train_sample:]\n",
    "        test_labels = label[train_sample:]\n",
    "\n",
    "        return(train_data,train_labels,test_data,test_labels)\n",
    "    \n",
    "(train_data,train_labels,test_data,test_labels) = train_test_split(data_with_extra, labels)\n",
    "print(train_data.shape)"
   ]
  },
  {
   "cell_type": "code",
   "execution_count": null,
   "metadata": {},
   "outputs": [],
   "source": [
    "device = torch.device(\"cuda\" if torch.cuda.is_available() else \"cpu\")"
   ]
  },
  {
   "cell_type": "code",
   "execution_count": null,
   "metadata": {},
   "outputs": [],
   "source": [
    "class Net_sa(nn.Module):\n",
    "    \n",
    "    class SelfAttention(nn.Module):\n",
    "        \n",
    "        def __init__(self, input_dim):\n",
    "            super(Net_sa.SelfAttention, self).__init__()\n",
    "            self.input_dim = input_dim\n",
    "            self.query = nn.Linear(input_dim, input_dim)\n",
    "            self.key = nn.Linear(input_dim, input_dim)\n",
    "            self.value = nn.Linear(input_dim, input_dim)\n",
    "            self.softmax = nn.Softmax(dim=-1)\n",
    "        def forward(self, x):\n",
    "            query = self.query(x)\n",
    "            key = self.key(x)\n",
    "            value = self.value(x)\n",
    "            scores = torch.matmul(query, key.transpose(-2, -1)) / torch.sqrt(torch.tensor(self.input_dim, dtype=torch.float32))\n",
    "            attention_weights = self.softmax(scores)\n",
    "            output = torch.matmul(attention_weights, value)\n",
    "\n",
    "            return output\n",
    "    def __init__(self):\n",
    "        super(Net_sa, self).__init__()\n",
    "        \n",
    "        self.conv = nn.Sequential(\n",
    "            nn.Conv2d(1, 2, kernel_size=3, stride=1, padding=1),\n",
    "            nn.ReLU(),\n",
    "            nn.Dropout(0.6)\n",
    "        )\n",
    "        self.attention = self.SelfAttention(2 * 41 * 5) \n",
    "        self.seq = nn.Sequential(\n",
    "            nn.Linear(2 * 41 * 5, 25),\n",
    "            nn.ReLU(),\n",
    "            nn.Dropout(0.6),\n",
    "            nn.Linear(25, 3),\n",
    "            nn.ReLU(),\n",
    "            nn.Dropout(0),\n",
    "            nn.Linear(3, 1),\n",
    "            nn.Sigmoid()  )\n",
    "        \n",
    "    def forward(self, x):\n",
    "        x = self.conv(x)\n",
    "        x = x.view(x.size(0),-1)\n",
    "        x = self.attention(x)\n",
    "        x = self.seq(x)\n",
    "        return x"
   ]
  },
  {
   "cell_type": "code",
   "execution_count": null,
   "metadata": {},
   "outputs": [],
   "source": [
    "seed = 42\n",
    "torch.manual_seed(seed)\n",
    "torch.cuda.manual_seed(seed)\n",
    "\n",
    "model = Net_sa()\n",
    "criterion = nn.BCELoss()\n",
    "optimizer = optim.Adam(model.parameters(), lr=0.001)\n",
    "scheduler = lr_scheduler.StepLR(optimizer, step_size=10, gamma=0.93)\n",
    "\n",
    "num_epochs = 50\n",
    "kf = KFold(n_splits=5)\n",
    "\n",
    "for train_indx, val_indx in kf.split(X=train_data):\n",
    "    \n",
    "    train_data_splited = torch.from_numpy(train_data[train_indx,:,:,:]).to(device).type(torch.float)\n",
    "    train_labels_splited = torch.from_numpy(train_labels[train_indx]).to(device).type(torch.float)\n",
    "    \n",
    "    val_data_splited = torch.from_numpy(train_data[val_indx,:,:,:]).type(torch.float)\n",
    "    val_labels_splited = torch.from_numpy(train_labels[val_indx]).type(torch.float)\n",
    "    \n",
    "    model = model.to(device)\n",
    "\n",
    "    for epoch in range(num_epochs):\n",
    "        outputs = model(train_data_splited)\n",
    "        loss = criterion(outputs, train_labels_splited)\n",
    "        optimizer.zero_grad()\n",
    "        loss.backward()\n",
    "        optimizer.step()\n",
    "        scheduler.step()\n",
    "        train_losses.append(loss.item())\n",
    "        if (epoch + 1) % 10 == 0:\n",
    "            print(f\"Epoch {epoch+1}/{num_epochs}, Loss: {loss.item()}\")\n",
    "    \n",
    "        with torch.no_grad():\n",
    "            preds = model(val_data_splited)"
   ]
  },
  {
   "cell_type": "code",
   "execution_count": null,
   "metadata": {},
   "outputs": [],
   "source": [
    "def predict(model, input):\n",
    "    data = torch.from_numpy(input).to(device).type(torch.float)\n",
    "    output = model(data)\n",
    "    output = output.detach().cpu().numpy()\n",
    "    return output\n",
    "\n",
    "test_preds = predict(model,test_data)"
   ]
  },
  {
   "cell_type": "code",
   "execution_count": null,
   "metadata": {},
   "outputs": [],
   "source": [
    "def metrics_output(preds,labels):\n",
    "\n",
    "    metrics_fpr, metrics_tpr, thresholds = roc_curve(labels.squeeze(-1), preds.squeeze(-1))\n",
    "    roc_auc = auc(metrics_fpr, metrics_tpr)\n",
    "    \n",
    "    best_threshold = thresholds[np.argmax(metrics_tpr - metrics_fpr)]\n",
    "\n",
    "    test_pred_binary = np.where(preds > best_threshold, 1 , 0)\n",
    "\n",
    "    metrics_tn, metrics_fp, metrics_fn, metrics_tp = confusion_matrix(np.squeeze(labels,axis=-1), np.squeeze(test_pred_binary,axis=-1)).ravel()\n",
    "    metrics_sn = metrics_tp / (metrics_tp + metrics_fn)\n",
    "    metrics_sp = metrics_tn / (metrics_tn + metrics_fp)\n",
    "    metrics_ACC = (metrics_tp + metrics_tn) / (metrics_tn + metrics_fp + metrics_fn + metrics_tp)\n",
    "    metrics_pre = metrics_tp / (metrics_tp + metrics_fp)\n",
    "    metrics_F1 = 2 * (metrics_pre * metrics_sn) / (metrics_pre + metrics_sn)\n",
    "    metrics_MCC = (metrics_tp * metrics_tn - metrics_fp * metrics_fn) / math.sqrt((metrics_tp + metrics_fp)*\n",
    "                                                                                  (metrics_tp + metrics_fn)*\n",
    "                                                                                  (metrics_tn + metrics_fp)*\n",
    "                                                                                  (metrics_tn + metrics_fn))\n",
    "    \n",
    "    return (metrics_fpr, metrics_tpr,roc_auc, metrics_sn, metrics_sp, metrics_ACC, metrics_F1, metrics_MCC)\n"
   ]
  },
  {
   "cell_type": "code",
   "execution_count": null,
   "metadata": {},
   "outputs": [],
   "source": [
    "metrics_fpr, metrics_tpr, roc_auc, metrics_sn, metrics_sp, metrics_ACC, metrics_F1, metrics_MCC = metrics_output(preds,val_labels_splited)\n",
    "print(roc_auc, metrics_sn, metrics_sp, metrics_ACC, metrics_MCC)\n",
    "metrics_fpr, metrics_tpr, roc_auc, metrics_sn, metrics_sp, metrics_ACC, metrics_F1, metrics_MCC = metrics_output(test_preds,test_labels)\n",
    "print(roc_auc, metrics_sn, metrics_sp, metrics_ACC, metrics_MCC)\n"
   ]
  },
  {
   "cell_type": "code",
   "execution_count": null,
   "metadata": {},
   "outputs": [],
   "source": [
    "plt.figure()\n",
    "plt.plot(metrics_fpr, metrics_tpr, color='darkorange', label='DL model (AUC = %0.2f)' % roc_auc)\n",
    "plt.plot([0, 1], [0, 1], color='navy', linestyle='--')\n",
    "plt.xlim([0.0, 1.0])\n",
    "plt.ylim([0.0, 1.05])\n",
    "plt.xlabel('False Positive Rate')\n",
    "plt.ylabel('True Positive Rate')\n",
    "plt.title('Receiver Operating Characteristic')\n",
    "plt.legend(loc=\"lower right\")\n",
    "plt.show()"
   ]
  },
  {
   "cell_type": "code",
   "execution_count": null,
   "metadata": {},
   "outputs": [],
   "source": [
    "torch.save(model.state_dict(), 'self_attention_seq_parameters.pth')"
   ]
  }
 ],
 "metadata": {
  "kernelspec": {
   "display_name": "Python 3 (ipykernel)",
   "language": "python",
   "name": "python3"
  },
  "language_info": {
   "codemirror_mode": {
    "name": "ipython",
    "version": 3
   },
   "file_extension": ".py",
   "mimetype": "text/x-python",
   "name": "python",
   "nbconvert_exporter": "python",
   "pygments_lexer": "ipython3",
   "version": "3.8.18"
  }
 },
 "nbformat": 4,
 "nbformat_minor": 2
}
