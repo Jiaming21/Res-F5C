{
 "cells": [
  {
   "cell_type": "code",
   "execution_count": 32,
   "id": "f4c47b49",
   "metadata": {},
   "outputs": [],
   "source": [
    "import numpy as np\n",
    "import torch \n",
    "import torch.nn as nn\n",
    "import torchvision.transforms as transforms\n",
    "import torchvision.datasets as dsets\n",
    "import matplotlib.pylab as plt\n",
    "import numpy as np\n",
    "import torch.nn.functional as F\n",
    "import math\n",
    "import copy\n",
    "import pandas as pd\n",
    "from sklearn.model_selection import train_test_split\n",
    "from sklearn.metrics import roc_auc_score, matthews_corrcoef, f1_score\n",
    "import random"
   ]
  },
  {
   "cell_type": "code",
   "execution_count": 33,
   "id": "b34c3a11",
   "metadata": {},
   "outputs": [],
   "source": [
    "torch.set_default_tensor_type(torch.DoubleTensor)"
   ]
  },
  {
   "cell_type": "code",
   "execution_count": 34,
   "id": "0763e170",
   "metadata": {},
   "outputs": [],
   "source": [
    "pos_table = pd.read_csv('/Users/jiaming/Desktop/revision/datas/pos_encoding_OH_ND.csv')\n",
    "neg_table = pd.read_csv('/Users/jiaming/Desktop/revision/datas/neg_encoding_OH_ND.csv')\n",
    "\n",
    "pos_table = pos_table.iloc[:,1:]\n",
    "neg_table = neg_table.iloc[:,1:]"
   ]
  },
  {
   "cell_type": "code",
   "execution_count": 35,
   "id": "88c847e8",
   "metadata": {},
   "outputs": [],
   "source": [
    "pos_geo = pd.read_csv('/Users/jiaming/Desktop/revision/datas/pos_domain_encoding.csv')\n",
    "neg_geo = pd.read_csv('/Users/jiaming/Desktop/revision/datas/neg_domain_encoding.csv')\n",
    "\n",
    "pos_geo = pos_geo.iloc[:,1:]\n",
    "neg_geo = neg_geo.iloc[:,1:]"
   ]
  },
  {
   "cell_type": "code",
   "execution_count": 36,
   "id": "2edf662b",
   "metadata": {},
   "outputs": [],
   "source": [
    "pos_cb = pd.concat([pos_table, pos_geo], axis=1)\n",
    "neg_cb = pd.concat([neg_table, neg_geo], axis=1)[:1891]\n",
    "\n",
    "pos_np = pos_cb.to_numpy()\n",
    "neg_np = neg_cb.to_numpy()\n",
    "\n",
    "raw_datas = np.concatenate((pos_np, neg_np), axis=0)\n",
    "raw_labels = np.concatenate(([1] * pos_np.shape[0], [0] * neg_np.shape[0]), axis=0)"
   ]
  },
  {
   "cell_type": "code",
   "execution_count": 37,
   "id": "eac135d7",
   "metadata": {},
   "outputs": [],
   "source": [
    "data_train, data_test, labels_train, labels_test = train_test_split(raw_datas, raw_labels, test_size=0.2, random_state=12)"
   ]
  },
  {
   "cell_type": "code",
   "execution_count": 38,
   "id": "b1f4d83a",
   "metadata": {},
   "outputs": [],
   "source": [
    "def clones(module, N):\n",
    "    \"Produce N identical layers.\"\n",
    "    return nn.ModuleList([copy.deepcopy(module) for _ in range(N)])"
   ]
  },
  {
   "cell_type": "code",
   "execution_count": 39,
   "id": "06ab8044",
   "metadata": {},
   "outputs": [],
   "source": [
    "N_seq = 49 # 245/41 41*5+40*1\n",
    "def dataset_CNN(Xdataset, ydataset):\n",
    "    Xydataset = []\n",
    "    for iS in range(Xdataset.shape[0]):\n",
    "        Xdataset_i = Xdataset[iS]\n",
    "        ydataset_i = ydataset[iS]\n",
    "        Xydataset_i = (torch.tensor(np.transpose(Xdataset_i.reshape(N_seq, 5)).reshape(1, N_seq, 5)), ydataset_i)\n",
    "        Xydataset.append(Xydataset_i)\n",
    "        \n",
    "    return Xydataset"
   ]
  },
  {
   "cell_type": "code",
   "execution_count": 40,
   "id": "a350019b",
   "metadata": {},
   "outputs": [],
   "source": [
    "def actfunc(activation='relu'):\n",
    "    if activation == 'relu':\n",
    "        act = nn.ReLU\n",
    "    return act()"
   ]
  },
  {
   "cell_type": "code",
   "execution_count": 41,
   "id": "3632f36c",
   "metadata": {},
   "outputs": [],
   "source": [
    "class Encoder(nn.Module):\n",
    "    \"Core encoder is a stack of N layers\"\n",
    "\n",
    "    def __init__(self, layer, N):\n",
    "        super(Encoder, self).__init__()\n",
    "        self.layers = clones(layer, N)\n",
    "        # self.norm = LayerNorm(layer.size)\n",
    "\n",
    "    def forward(self, x):\n",
    "        \"Pass the input (and mask) through each layer in turn.\"\n",
    "        for layer in self.layers:\n",
    "            x = layer(x)\n",
    "        return x"
   ]
  },
  {
   "cell_type": "code",
   "execution_count": 42,
   "id": "9837932c",
   "metadata": {},
   "outputs": [],
   "source": [
    "class PositionalEncoding(nn.Module):\n",
    "    \"Implement the PE function.\"\n",
    "\n",
    "    def __init__(self, d_model, dropout, len=None, max_len=5000):\n",
    "        super(PositionalEncoding, self).__init__()\n",
    "        self.len = len\n",
    "        self.dropout = nn.Dropout(p=dropout)\n",
    "        # Compute the positional encodings once in log space.\n",
    "        pe = torch.zeros(max_len, d_model)\n",
    "        # pe = torch.zeros(max_len, 1)\n",
    "        # x=torch.cat([x,self.pe[:x.size(-2)]],dim=-2)\n",
    "        position = torch.arange(0, max_len).unsqueeze(1)\n",
    "        position *= 2\n",
    "        div_term = torch.exp(position / d_model * math.log(10000))\n",
    "        pe[:, 0::2] = torch.sin(position / div_term)\n",
    "        pe[:, 1::2] = torch.cos(position / div_term)\n",
    "        # pe = pe.unsqueeze(0)\n",
    "        pe.requires_grad = False\n",
    "        pe = pe / 10\n",
    "        self.register_buffer('pe', pe)\n",
    "\n",
    "    def forward(self, x):\n",
    "        x = x + self.pe[:x.size(-2)]\n",
    "        return x"
   ]
  },
  {
   "cell_type": "code",
   "execution_count": 43,
   "id": "2232b09e",
   "metadata": {},
   "outputs": [],
   "source": [
    "class SelfAttention(nn.Module):\n",
    "    def __init__(self, inputsize, headnum=8, modelsize=None):\n",
    "        super(SelfAttention, self).__init__()\n",
    "        if modelsize is None:\n",
    "            modelsize = inputsize // headnum\n",
    "        self.Wq = clones(nn.Linear(inputsize, modelsize, bias=False), headnum)\n",
    "        self.Wk = clones(nn.Linear(inputsize, modelsize), headnum)\n",
    "        self.Wv = clones(nn.Linear(inputsize, modelsize), headnum)\n",
    "        self.size = 1 / (modelsize ** 0.5)\n",
    "        self.softmax = nn.Softmax(dim=-1)\n",
    "\n",
    "    def forward(self, x, m=None):\n",
    "        z = []\n",
    "        if m is None:\n",
    "            m = x\n",
    "        for i in range(len(self.Wq)):\n",
    "            q = self.Wq[i](x)\n",
    "            k = self.Wk[i](m).transpose(-1, -2)\n",
    "            weight = torch.mul(torch.matmul(q, k), self.size)\n",
    "            v = torch.matmul(self.softmax(weight), self.Wv[i](m))\n",
    "            z.append(v)\n",
    "        z = torch.cat(z, -1)\n",
    "        return z"
   ]
  },
  {
   "cell_type": "code",
   "execution_count": 44,
   "id": "56113898",
   "metadata": {},
   "outputs": [],
   "source": [
    "class Conv1dtranspose(nn.Module):\n",
    "    def __init__(self, in_chan, out_chan, kernel_size=3, stride=1, dilation=1, padding=0, pooling=False,\n",
    "                 in_transpose=False, out_transpose=False, groups=1, dropout=0.1,acti='relu'):\n",
    "        super(Conv1dtranspose, self).__init__()\n",
    "        if padding == 'same':\n",
    "            padding = kernel_size // 2\n",
    "        self.conv = nn.Conv1d(in_channels=in_chan, out_channels=out_chan, padding=padding, groups=groups,\n",
    "                              kernel_size=kernel_size, stride=stride, dilation=dilation)\n",
    "        self.in_transpose = in_transpose\n",
    "        self.out_transpose = out_transpose\n",
    "        self.dropout = nn.Dropout(dropout)\n",
    "        self.out=actfunc(acti)\n",
    "        self.pooling = pooling\n",
    "        if pooling:\n",
    "            self.pool = nn.MaxPool1d(2)\n",
    "\n",
    "    def forward(self, x, in_transpose=False):\n",
    "        if in_transpose:\n",
    "            x = torch.transpose(x, -1, -2)\n",
    "        elif self.in_transpose:\n",
    "            x = torch.transpose(x, -1, -2)\n",
    "            x = self.conv(x)\n",
    "            x = self.out(self.dropout(x))\n",
    "        if self.pooling:\n",
    "            x = self.pool(x)\n",
    "        if self.out_transpose:\n",
    "            x = torch.transpose(x, -1, -2)\n",
    "        return x"
   ]
  },
  {
   "cell_type": "code",
   "execution_count": 45,
   "id": "3ce989fd",
   "metadata": {},
   "outputs": [],
   "source": [
    "class LayerNorm(nn.Module): \n",
    "    \"Construct a layernorm module (See citation for details).\"\n",
    "\n",
    "    def __init__(self, features, eps=1e-6):\n",
    "        super(LayerNorm, self).__init__()\n",
    "        self.a_2 = nn.Parameter(torch.ones(features),requires_grad=True)\n",
    "        self.b_2 = nn.Parameter(torch.zeros(features),requires_grad=True)\n",
    "        self.eps = eps\n",
    "\n",
    "    def forward(self, x):\n",
    "        # print(x.size())\n",
    "        mean = x.mean(-1, keepdim=True)\n",
    "        std = x.std(-1, keepdim=True)\n",
    "        return self.a_2 * (x - mean) / (std + self.eps) + self.b_2\n"
   ]
  },
  {
   "cell_type": "code",
   "execution_count": 46,
   "id": "f829477d",
   "metadata": {},
   "outputs": [],
   "source": [
    "class Encoderlayer(nn.Module):\n",
    "    \"Core encoder is a stack of N layers\"\n",
    "\n",
    "    def __init__(self, inputsize, outsize, dropout=0.2, modelsize=None,acti='relu', headnum=16, fourier=False, res=False):\n",
    "        super(Encoderlayer, self).__init__()\n",
    "        if modelsize is None:\n",
    "            self.res = True\n",
    "            modelsize = int(inputsize / headnum)\n",
    "        else:\n",
    "            self.res = False\n",
    "        if modelsize * headnum == outsize:\n",
    "            self.resout = True\n",
    "        else:\n",
    "            self.resout = False\n",
    "        if fourier:\n",
    "            self.att = rfft2()\n",
    "        else:\n",
    "            self.att = SelfAttention(inputsize, headnum, modelsize)\n",
    "        self.Wz = nn.Sequential(nn.Linear(modelsize * headnum, outsize), actfunc(acti), nn.Linear(outsize, outsize))\n",
    "        self.sublayer = [LayerNorm(inputsize), LayerNorm(modelsize * headnum)]\n",
    "        self.dropout = clones(nn.Dropout(dropout), 3)\n",
    "\n",
    "    def forward(self, x):\n",
    "        if self.res:\n",
    "            z = x + self.dropout[0](self.att(self.sublayer[0](x)))\n",
    "        else:\n",
    "            z = self.att(x)\n",
    "        if self.resout:\n",
    "            out = z + self.dropout[1](self.Wz(self.sublayer[1](z)))\n",
    "        else:\n",
    "            out = self.Wz(z)\n",
    "        return out"
   ]
  },
  {
   "cell_type": "code",
   "execution_count": 47,
   "id": "be76e8e2",
   "metadata": {},
   "outputs": [],
   "source": [
    "class rfft2(nn.Module):\n",
    "    def __init__(self):\n",
    "        super(rfft2, self).__init__()\n",
    "\n",
    "    def forward(self, x):\n",
    "        return torch.fft.rfft2(x)"
   ]
  },
  {
   "cell_type": "code",
   "execution_count": 48,
   "id": "1ad37a7c",
   "metadata": {},
   "outputs": [],
   "source": [
    "class CLS(nn.Module):\n",
    "    def __init__(self, in_size, out_size=100,acti='relu'):\n",
    "        super(CLS, self).__init__()\n",
    "        self.model = nn.Sequential(nn.Linear(in_size, 1000),\n",
    "                                   actfunc(acti),\n",
    "                                   nn.Linear(1000, out_size), nn.Sigmoid())\n",
    "\n",
    "    def forward(self, x):\n",
    "        x = x[0]\n",
    "        out = self.model(x).view([1,-1])\n",
    "        return out"
   ]
  },
  {
   "cell_type": "code",
   "execution_count": 49,
   "id": "99acfba5",
   "metadata": {},
   "outputs": [],
   "source": [
    "class Transformer(nn.Module):\n",
    "    def __init__(self, N=5, src_vocab=64,d_model=256, dropout=0.25, h=8,outsize=2,acti='relu'):\n",
    "        super(Transformer, self).__init__()\n",
    "        self.Embed = nn.Sequential(\n",
    "            Conv1dtranspose(src_vocab, d_model,acti=acti, in_transpose=True, out_transpose=True, kernel_size=7, stride=5),\n",
    "            nn.Flatten(0, 1))\n",
    "        self.model = nn.Sequential(\n",
    "            PositionalEncoding(d_model, dropout),\n",
    "            Encoder(Encoderlayer(inputsize=d_model, outsize=d_model, headnum=h, dropout=dropout,acti=acti), N),\n",
    "            CLS(d_model,out_size=outsize,acti=acti)\n",
    "        )\n",
    "        self.cls = (torch.ones([1, d_model]) * -1)\n",
    "\n",
    "    def forward(self, x):\n",
    "        x = self.Embed(x)\n",
    "        x = torch.cat([self.cls, x], dim=0)\n",
    "        x = self.model(x)\n",
    "        return x"
   ]
  },
  {
   "cell_type": "code",
   "execution_count": 53,
   "id": "6df7093a",
   "metadata": {},
   "outputs": [],
   "source": [
    "model = Transformer(src_vocab = 5) \n",
    "criterion = nn.CrossEntropyLoss()\n",
    "learning_rate = 0.00001\n",
    "optimizer = torch.optim.Adam(model.parameters(), lr=learning_rate)\n",
    "#N_test=len(train_dataset)\n",
    "n_epochs = 2"
   ]
  },
  {
   "cell_type": "code",
   "execution_count": 62,
   "id": "a8a98e13",
   "metadata": {},
   "outputs": [
    {
     "name": "stdout",
     "output_type": "stream",
     "text": [
      "epoch:  0\n",
      "this is spilt: 1\n",
      "0.9228187919463087 0.8051948051948052 0.863036303630363 0.8688783570300157 0.7320081763683246 0.9391070339056916\n",
      "this is spilt: 2\n",
      "0.9704918032786886 0.6966666666666667 0.8347107438016529 0.8554913294797687 0.694793619803805 0.9352677595628415\n",
      "this is spilt: 3\n",
      "0.9404388714733543 0.7797202797202797 0.8644628099173554 0.8797653958944281 0.7339151390076786 0.9383015104018239\n",
      "this is spilt: 4\n",
      "0.9047619047619048 0.8713826366559485 0.8876033057851239 0.8866666666666667 0.7758900093736828 0.9450423256119168\n",
      "this is spilt: 5\n",
      "0.8566775244299675 0.8926174496644296 0.8743801652892562 0.8737541528239203 0.7494424424645333 0.9323830968672802\n",
      "epoch:  1\n",
      "this is spilt: 1\n",
      "0.9530201342281879 0.6915584415584416 0.8201320132013201 0.8389955686853766 0.6657739881676709 0.950013074174148\n",
      "this is spilt: 2\n",
      "0.9606557377049181 0.8866666666666667 0.9239669421487603 0.9272151898734178 0.8500861933371497 0.9537486338797815\n",
      "this is spilt: 3\n",
      "0.9373040752351097 0.8776223776223776 0.9090909090909091 0.9157733537519143 0.8181612277748157 0.9535151369007168\n",
      "this is spilt: 4\n",
      "0.9285714285714286 0.909967845659164 0.9190082644628099 0.9176470588235294 0.8382184741598482 0.9553120283483169\n",
      "this is spilt: 5\n",
      "0.9250814332247557 0.9026845637583892 0.9140495867768595 0.9161290322580645 0.8281734579688326 0.9393349802155522\n"
     ]
    }
   ],
   "source": [
    "from sklearn.model_selection import KFold\n",
    "kf = KFold(n_splits=5)\n",
    "\n",
    "for epoch in range(n_epochs):\n",
    "    print(\"epoch: \", epoch)\n",
    "    \n",
    "    i=1\n",
    "    for train_dataset_indx, val_dataset_indx in kf.split(X=data_train):\n",
    "        print(\"this is spilt:\", i)\n",
    "        i=i+1\n",
    "        \n",
    "        data_train_splited = data_train[train_dataset_indx]\n",
    "        data_val_splited = data_train[val_dataset_indx]\n",
    "        labels_train_splited = labels_train[train_dataset_indx]\n",
    "        labels_val_splited = labels_train[val_dataset_indx]\n",
    "        \n",
    "        train_dataset = dataset_CNN(data_train_splited, labels_train_splited)\n",
    "        val_dataset = dataset_CNN(data_val_splited, labels_val_splited)\n",
    "        \n",
    "        \n",
    "        for x, y in train_dataset:\n",
    "        \n",
    "            optimizer.zero_grad()\n",
    "            z = model(x)\n",
    "            y = torch.tensor(np.array(y).reshape(1,))\n",
    "            y = y.to(torch.long)\n",
    "            loss = criterion(z, y)\n",
    "            loss.backward()\n",
    "            optimizer.step()\n",
    "            \n",
    "        with torch.set_grad_enabled(False):\n",
    "            N_test=len(val_dataset)\n",
    "            prediction = []\n",
    "            for x_1, y_1 in val_dataset:\n",
    "                model.eval()\n",
    "                z = model(x_1)\n",
    "                pred = z[:, 1]\n",
    "                for z_i in pred:\n",
    "                    prediction.append(z_i.item())\n",
    "                        \n",
    "            prediction = np.array(prediction)\n",
    "            y_hat_test = np.round(prediction)\n",
    "            y_label = labels_val_splited\n",
    "                \n",
    "            TP = np.sum(y_label[y_label == y_hat_test] == 1)\n",
    "            TN = np.sum(y_label[y_label == y_hat_test] == 0)\n",
    "            FP = np.sum(y_hat_test[y_label != y_hat_test] == 1)\n",
    "            FN = np.sum(y_hat_test[y_label != y_hat_test] == 0)\n",
    "            Pre = TP/(TP+FP)\n",
    "            Sn = TP/(TP+FN)\n",
    "            Sp = TN/(TN+FP)\n",
    "            MCC = matthews_corrcoef(y_label, y_hat_test)\n",
    "            AUC = roc_auc_score(y_label, prediction)\n",
    "            ACC = (TP+TN)/(TP+TN+FP+FN)\n",
    "            F1= f1_score(y_label, y_hat_test)\n",
    "            \n",
    "            print(Sn, Sp, ACC, F1, MCC, AUC)"
   ]
  },
  {
   "cell_type": "code",
   "execution_count": 63,
   "id": "0bfe67e3",
   "metadata": {},
   "outputs": [],
   "source": [
    "test_dataset = dataset_CNN(data_test, labels_test)\n",
    "N_test=len(test_dataset)\n",
    "prediction = []\n",
    "for x_2, y_2 in test_dataset:\n",
    "    model.eval()\n",
    "    z = model(x_2)\n",
    "    pred = z[:, 1]\n",
    "    for z_i in pred:\n",
    "        prediction.append(z_i.item())\n",
    "\n",
    "prediction = np.array(prediction)\n",
    "y_hat_test = np.round(prediction)\n",
    "y_label = labels_test"
   ]
  },
  {
   "cell_type": "code",
   "execution_count": 67,
   "id": "9c1de212",
   "metadata": {},
   "outputs": [],
   "source": [
    "np.save(\"./seq_plus_geo_prediction.npy\", prediction)\n",
    "np.save(\"./seq_plus_geo_y_label.npy\", y_label)"
   ]
  },
  {
   "cell_type": "code",
   "execution_count": 64,
   "id": "cff25646",
   "metadata": {},
   "outputs": [],
   "source": [
    "TP = np.sum(y_label[y_label == y_hat_test] == 1)\n",
    "TN = np.sum(y_label[y_label == y_hat_test] == 0)\n",
    "FP = np.sum(y_hat_test[y_label != y_hat_test] == 1)\n",
    "FN = np.sum(y_hat_test[y_label != y_hat_test] == 0)\n",
    "Pre = TP/(TP+FP)\n",
    "Sn = TP/(TP+FN)\n",
    "Sp = TN/(TN+FP)\n",
    "MCC = matthews_corrcoef(y_label, y_hat_test)\n",
    "AUC = roc_auc_score(y_label, prediction)\n",
    "ACC = (TP+TN)/(TP+TN+FP+FN)\n",
    "F1= f1_score(y_label, y_hat_test)"
   ]
  },
  {
   "cell_type": "code",
   "execution_count": 65,
   "id": "64d54ed9",
   "metadata": {},
   "outputs": [
    {
     "name": "stdout",
     "output_type": "stream",
     "text": [
      "0.8075880758807588 0.8324742268041238 0.8203434610303831 0.814207650273224 0.640397860099797 0.8678233174084317\n"
     ]
    }
   ],
   "source": [
    "print(Sn, Sp, ACC, F1, MCC, AUC)"
   ]
  },
  {
   "cell_type": "code",
   "execution_count": null,
   "id": "a0f0253e",
   "metadata": {},
   "outputs": [],
   "source": []
  }
 ],
 "metadata": {
  "kernelspec": {
   "display_name": "Python 3 (ipykernel)",
   "language": "python",
   "name": "python3"
  },
  "language_info": {
   "codemirror_mode": {
    "name": "ipython",
    "version": 3
   },
   "file_extension": ".py",
   "mimetype": "text/x-python",
   "name": "python",
   "nbconvert_exporter": "python",
   "pygments_lexer": "ipython3",
   "version": "3.8.17"
  }
 },
 "nbformat": 4,
 "nbformat_minor": 5
}
