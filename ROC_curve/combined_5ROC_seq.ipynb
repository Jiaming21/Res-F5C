{
 "cells": [
  {
   "cell_type": "markdown",
   "id": "fbc761a1",
   "metadata": {},
   "source": [
    "# Imports"
   ]
  },
  {
   "cell_type": "code",
   "execution_count": null,
   "id": "e0148eff",
   "metadata": {},
   "outputs": [],
   "source": [
    "import torch\n",
    "import torch.nn as nn\n",
    "import pandas as pd\n",
    "import numpy as np\n",
    "from sklearn.model_selection import train_test_split\n",
    "from torch.utils.data import DataLoader\n",
    "import time\n",
    "from torch.utils.data import Subset\n",
    "from sklearn.metrics import roc_auc_score, accuracy_score, matthews_corrcoef, recall_score, precision_score, auc\n",
    "import time\n",
    "from sklearn.metrics import roc_curve"
   ]
  },
  {
   "cell_type": "code",
   "execution_count": null,
   "id": "dcb29cb8",
   "metadata": {},
   "outputs": [],
   "source": [
    "##########################\n",
    "### SETTINGS\n",
    "##########################\n",
    "\n",
    "random_seed = 123"
   ]
  },
  {
   "cell_type": "markdown",
   "id": "8922c9e6",
   "metadata": {},
   "source": [
    "# Data Preprocessing"
   ]
  },
  {
   "cell_type": "code",
   "execution_count": null,
   "id": "04059f04",
   "metadata": {},
   "outputs": [],
   "source": [
    "pos_table = pd.read_csv('/Users/jiaming/Desktop/revision/datas/pos_encoding_OH_ND.csv')\n",
    "neg_table = pd.read_csv('/Users/jiaming/Desktop/revision/datas/neg_encoding_OH_ND.csv')\n",
    "\n",
    "pos_table = pos_table.iloc[:,1:]\n",
    "neg_table = neg_table.iloc[:,1:]\n",
    "\n",
    "pos_np = pos_table.to_numpy()\n",
    "neg_np = neg_table.to_numpy()\n",
    "\n",
    "pos = torch.FloatTensor(pos_np).unsqueeze(1)\n",
    "neg = torch.FloatTensor(neg_np).unsqueeze(1)\n",
    "\n",
    "raw_datas = np.concatenate((pos, neg), axis=0)\n",
    "raw_labels = np.concatenate(([1] * pos.shape[0], [0] * neg.shape[0]), axis=0)\n",
    "\n",
    "data_train, data_test, labels_train, labels_test = train_test_split(raw_datas, raw_labels, test_size=0.2, random_state=random_seed)\n"
   ]
  },
  {
   "cell_type": "code",
   "execution_count": null,
   "id": "e6292ad7",
   "metadata": {},
   "outputs": [],
   "source": [
    "from torch.utils.data import Dataset\n",
    "\n",
    "class CustomDataset(Dataset):\n",
    "    def __init__(self, data, labels):\n",
    "        self.data = data\n",
    "        self.labels = labels\n",
    "\n",
    "    def __len__(self):\n",
    "        return len(self.data)\n",
    "\n",
    "    def __getitem__(self, idx):\n",
    "        x = self.data[idx]\n",
    "        y = self.labels[idx]\n",
    "        return x, y\n",
    "\n",
    "train_dataset = CustomDataset(data_train, labels_train)\n",
    "test_dataset = CustomDataset(data_test, labels_test)"
   ]
  },
  {
   "cell_type": "code",
   "execution_count": null,
   "id": "b8b8ee93",
   "metadata": {},
   "outputs": [],
   "source": []
  },
  {
   "cell_type": "markdown",
   "id": "2b85f11b",
   "metadata": {},
   "source": [
    "# Deep-f5C"
   ]
  },
  {
   "cell_type": "code",
   "execution_count": null,
   "id": "021a931a",
   "metadata": {},
   "outputs": [],
   "source": [
    "# Step 1: Import the required libraries\n",
    "import numpy as np\n",
    "import pandas as pd\n",
    "import torch\n",
    "import torch.nn as nn\n",
    "import torch.optim as optim\n",
    "import torch.optim.lr_scheduler as lr_scheduler\n",
    "from sklearn.model_selection import train_test_split\n",
    "from sklearn.metrics import roc_auc_score, accuracy_score, matthews_corrcoef, recall_score, precision_score\n",
    "from sklearn.preprocessing import StandardScaler\n",
    "\n",
    "\n",
    "# Step 2: Load your data and split it into features (X) and labels (y)\n",
    "\n",
    "pos = pd.read_csv('/Users/jiaming/Desktop/f5c/pos_encoding_OH_ND.csv') \n",
    "neg = pd.read_csv('/Users/jiaming/Desktop/f5c/neg_encoding_OH_ND.csv')\n",
    "\n",
    "raw_datas = np.concatenate((pos, neg), axis=0)\n",
    "raw_labels = np.concatenate(([1] * pos.shape[0], [0] * neg.shape[0]), axis=0)\n",
    "\n",
    "np.random.seed(1)\n",
    "indices = np.random.permutation(raw_labels.shape[0])\n",
    "\n",
    "X = raw_datas[indices, :]\n",
    "y = raw_labels[indices]\n",
    "\n",
    "print(X.shape,y.shape)\n",
    "\n",
    "# Replace X_train, y_train, X_test, y_test with your actual data\n",
    "X_train, X_test, y_train, y_test = train_test_split(X, y, test_size=0.2, random_state=42)\n",
    "\n",
    "# Step 3: Scale the data\n",
    "scaler = StandardScaler()\n",
    "X_train_scaled = scaler.fit_transform(X_train)\n",
    "X_test_scaled = scaler.transform(X_test)\n",
    "\n",
    "# Step 4: Convert data to PyTorch tensors\n",
    "X_train_tensor = torch.FloatTensor(X_train_scaled).unsqueeze(1)  # Add a channel dimension for Conv1d\n",
    "X_test_tensor = torch.FloatTensor(X_test_scaled).unsqueeze(1)  # Add a channel dimension for Conv1d\n",
    "y_train_tensor = torch.FloatTensor(y_train)\n",
    "y_test_tensor = torch.FloatTensor(y_test)\n",
    "\n",
    "# Step 5: Create the neural network class\n",
    "class Net_conv(nn.Module):\n",
    "    def __init__(self):\n",
    "        super(Net_conv, self).__init__()\n",
    "        self.conv1 = nn.Conv1d(1, 16, kernel_size=3, stride=1, padding=1)\n",
    "        self.dropout1 = nn.Dropout(0.2)  # 添加第一个Dropout层\n",
    "        self.conv2 = nn.Conv1d(16, 32, kernel_size=3, stride=1, padding=1)\n",
    "        self.dropout2 = nn.Dropout(0.2)  # 添加第二个Dropout层\n",
    "        self.fc1 = nn.Linear(6592, 64)\n",
    "        self.dropout3 = nn.Dropout(0.5)  # 添加第三个Dropout层\n",
    "        self.fc2 = nn.Linear(64, 32)\n",
    "        self.fc3 = nn.Linear(32, 1)\n",
    "        self.relu = nn.ReLU()\n",
    "        self.sigmoid = nn.Sigmoid()\n",
    "\n",
    "    def forward(self, x):\n",
    "        x = self.relu(self.conv1(x))\n",
    "        x = self.dropout1(x)  # 在第一个卷积层后应用第一个Dropout层\n",
    "        x = self.relu(self.conv2(x))\n",
    "        x = self.dropout2(x)  # 在第二个卷积层后应用第二个Dropout层\n",
    "        x = x.view(x.size(0), -1)\n",
    "        x = self.relu(self.fc1(x)) \n",
    "        x = self.dropout3(x)  # 在第一个全连接层后应用第三个Dropout层\n",
    "        x = self.relu(self.fc2(x))\n",
    "        x = self.sigmoid(self.fc3(x))\n",
    "        return x\n",
    "\n",
    "# Step 6: Create the model and set the device (GPU or CPU)\n",
    "device = torch.device(\"cuda\" if torch.cuda.is_available() else \"mps\")\n",
    "model = Net_conv().to(device)"
   ]
  },
  {
   "cell_type": "code",
   "execution_count": null,
   "id": "76e3f04b",
   "metadata": {},
   "outputs": [],
   "source": [
    "model.load_state_dict(torch.load('/Users/jiaming/Desktop/revision/datas/seq_plus_geo_model_parameters.pth'))"
   ]
  },
  {
   "cell_type": "code",
   "execution_count": null,
   "id": "3a981589",
   "metadata": {},
   "outputs": [],
   "source": [
    "model.eval()\n",
    "\n",
    "with torch.no_grad():\n",
    "    \n",
    "    preds = model(X_test_tensor.to(\"mps\"))\n",
    "    preds = preds.detach().cpu().numpy() "
   ]
  },
  {
   "cell_type": "code",
   "execution_count": null,
   "id": "8e560f85",
   "metadata": {},
   "outputs": [],
   "source": [
    "fpr_dp, tpr_dp, thresholds_dp = roc_curve(y_test, preds)\n",
    "roc_auc_dp = auc(fpr_dp, tpr_dp)\n",
    "print(roc_auc_dp)"
   ]
  },
  {
   "cell_type": "markdown",
   "id": "2752d9db",
   "metadata": {},
   "source": [
    "# Logistic Regression"
   ]
  },
  {
   "cell_type": "code",
   "execution_count": null,
   "id": "a91116dd",
   "metadata": {},
   "outputs": [],
   "source": [
    "from sklearn.linear_model import LogisticRegression"
   ]
  },
  {
   "cell_type": "code",
   "execution_count": null,
   "id": "1e313532",
   "metadata": {},
   "outputs": [],
   "source": [
    "print(data_train.shape, labels_train.shape)\n",
    "data_train = data_train.squeeze(1)\n",
    "data_test = data_test.squeeze(1)"
   ]
  },
  {
   "cell_type": "code",
   "execution_count": null,
   "id": "1347c1df",
   "metadata": {},
   "outputs": [],
   "source": [
    "model = LogisticRegression()\n",
    "\n",
    "model.fit(data_train, labels_train)\n",
    "\n",
    "pred = model.predict_proba(data_test)[:, 1]\n",
    "print(pred)\n",
    "\n",
   ]
  },
  {
   "cell_type": "code",
   "execution_count": null,
   "id": "67e5c849",
   "metadata": {},
   "outputs": [],
   "source": [
    "print(data_test)"
   ]
  },
  {
   "cell_type": "code",
   "execution_count": null,
   "id": "fc8ce8d8",
   "metadata": {},
   "outputs": [],
   "source": [
    "fpr_lr, tpr_lr, thresholds_lr = roc_curve(labels_test, pred)\n",
    "print(fpr_lr, tpr_lr, thresholds_lr)\n",
    "roc_auc_lr = auc(fpr_lr, tpr_lr)"
   ]
  },
  {
   "cell_type": "code",
   "execution_count": null,
   "id": "8c4a993d",
   "metadata": {},
   "outputs": [],
   "source": [
    "print(roc_auc_lr)"
   ]
  },
  {
   "cell_type": "markdown",
   "id": "aa2098ad",
   "metadata": {},
   "source": [
    "# Naive Bayes"
   ]
  },
  {
   "cell_type": "code",
   "execution_count": null,
   "id": "ec8c7c3b",
   "metadata": {},
   "outputs": [],
   "source": [
    "from sklearn.naive_bayes import GaussianNB"
   ]
  },
  {
   "cell_type": "code",
   "execution_count": null,
   "id": "4e395cab",
   "metadata": {},
   "outputs": [],
   "source": [
    "model = GaussianNB()\n",
    "\n",
    "model.fit(data_train, labels_train)\n",
    "\n",
    "pred = model.predict_proba(data_test)[:, 1]\n",
    "print(pred.shape)\n",
    "\n",
    "\n",
   ]
  },
  {
   "cell_type": "code",
   "execution_count": null,
   "id": "7c87a0c1",
   "metadata": {},
   "outputs": [],
   "source": [
    "fpr_nb, tpr_nb, thresholds_nb = roc_curve(labels_test, pred)\n",
    "print(fpr_nb.shape, tpr_nb.shape, thresholds_nb.shape)\n",
    "roc_auc_nb = auc(fpr_nb, tpr_nb)\n",
    "print(roc_auc_nb)"
   ]
  },
  {
   "cell_type": "markdown",
   "id": "56a1f646",
   "metadata": {},
   "source": [
    "# Random Forest"
   ]
  },
  {
   "cell_type": "code",
   "execution_count": null,
   "id": "e2a83d16",
   "metadata": {},
   "outputs": [],
   "source": [
    "from sklearn.ensemble import RandomForestClassifier"
   ]
  },
  {
   "cell_type": "code",
   "execution_count": null,
   "id": "24bf8238",
   "metadata": {},
   "outputs": [],
   "source": [
    "model = RandomForestClassifier(n_estimators=10000, random_state=42) \n",
    "model.fit(data_train, labels_train)\n",
    "\n",
    "pred = model.predict_proba(data_test)[:, 1]\n",
    "print(pred.shape)\n",
    "print(labels_test.shape)\n",
    "\n",
    "\n",
   ]
  },
  {
   "cell_type": "code",
   "execution_count": null,
   "id": "f03fdd1d",
   "metadata": {},
   "outputs": [],
   "source": [
    "fpr_rf, tpr_rf, thresholds_rf = roc_curve(labels_test, pred)\n",
    "print(fpr_rf.shape, tpr_rf.shape, thresholds_rf.shape)\n",
    "roc_auc_rf = auc(fpr_rf, tpr_rf)\n",
    "print(roc_auc_rf)"
   ]
  },
  {
   "cell_type": "markdown",
   "id": "2485ff16",
   "metadata": {},
   "source": [
    "# ResNet"
   ]
  },
  {
   "cell_type": "code",
   "execution_count": null,
   "id": "6297b8b1",
   "metadata": {},
   "outputs": [],
   "source": [
    "##########################\n",
    "### SETTINGS\n",
    "##########################\n",
    "\n",
    "# Device\n",
    "device = torch.device(\"cuda:1\" if torch.cuda.is_available() else \"mps\")\n",
    "\n",
    "# Hyperparameters\n",
    "random_seed = 123\n",
    "learning_rate = 0.01\n",
    "num_epochs = 10\n",
    "batch_size = 128\n",
    "\n",
    "# Architecture\n",
    "num_classes = 2"
   ]
  },
  {
   "cell_type": "code",
   "execution_count": null,
   "id": "9f36e3e8",
   "metadata": {},
   "outputs": [],
   "source": [
    "##########################\n",
    "### MODEL\n",
    "##########################\n",
    "\n",
    "\n",
    "class ConvNet(torch.nn.Module):\n",
    "\n",
    "    def __init__(self, num_classes):\n",
    "        super(ConvNet, self).__init__()\n",
    "        \n",
    "        #########################\n",
    "        ### 1st residual block\n",
    "        #########################\n",
    "        \n",
    "        self.block_1 = torch.nn.Sequential(\n",
    "                torch.nn.Conv1d(in_channels=1,\n",
    "                                out_channels=4,\n",
    "                                kernel_size=1,\n",
    "                                stride=1,\n",
    "                                padding=0),\n",
    "                torch.nn.BatchNorm1d(4),\n",
    "                torch.nn.ReLU(inplace=True),\n",
    "                torch.nn.Conv1d(in_channels=4,\n",
    "                                out_channels=1,\n",
    "                                kernel_size=3,\n",
    "                                stride=1,\n",
    "                                padding=1),\n",
    "                torch.nn.BatchNorm1d(1)\n",
    "        )\n",
    "        \n",
    "        self.block_2 = torch.nn.Sequential(\n",
    "                torch.nn.Conv1d(in_channels=1,\n",
    "                                out_channels=4,\n",
    "                                kernel_size=1,\n",
    "                                stride=1,\n",
    "                                padding=0),\n",
    "                torch.nn.BatchNorm1d(4),\n",
    "                torch.nn.ReLU(inplace=True),\n",
    "                torch.nn.Conv1d(in_channels=4,\n",
    "                                out_channels=1,\n",
    "                                kernel_size=3,\n",
    "                                stride=1,\n",
    "                                padding=1),\n",
    "                torch.nn.BatchNorm1d(1)\n",
    "        )\n",
    "\n",
    "        #########################\n",
    "        ### Fully connected\n",
    "        #########################        \n",
    "        self.linear_1 = torch.nn.Linear(205, num_classes) # 205 = 26240/batch_size\n",
    "\n",
    "        \n",
    "    def forward(self, x):\n",
    "        \n",
    "        #########################\n",
    "        ### 1st residual block\n",
    "        #########################\n",
    "        shortcut = x\n",
    "        x = self.block_1(x)\n",
    "        x = torch.nn.functional.relu(x + shortcut)\n",
    "        \n",
    "        #########################\n",
    "        ### 2nd residual block\n",
    "        #########################\n",
    "        shortcut = x\n",
    "        x = self.block_2(x)\n",
    "        x = torch.nn.functional.relu(x + shortcut)\n",
    "        \n",
    "        #########################\n",
    "        ### Fully connected\n",
    "        #########################\n",
    "        logits = self.linear_1(x.view(-1, 205))\n",
    "        return logits\n",
    "    \n",
    "    \n",
    "torch.manual_seed(random_seed)\n",
    "model = ConvNet(num_classes=num_classes)\n",
    "model = model.to(device)\n",
    "    \n",
    "optimizer = torch.optim.Adam(model.parameters(), lr=learning_rate)    "
   ]
  },
  {
   "cell_type": "code",
   "execution_count": null,
   "id": "b2ec39f2",
   "metadata": {},
   "outputs": [],
   "source": [
    "train_loader = DataLoader(dataset=train_dataset, \n",
    "                          batch_size=batch_size, \n",
    "                          shuffle=True)\n",
    "\n",
    "test_loader = DataLoader(dataset=test_dataset, \n",
    "                         batch_size=batch_size, \n",
    "                         shuffle=False)"
   ]
  },
  {
   "cell_type": "code",
   "execution_count": null,
   "id": "92b1b9ed",
   "metadata": {},
   "outputs": [],
   "source": [
    "start_time = time.time()\n",
    "for epoch in range(num_epochs):\n",
    "    model = model.train()\n",
    "    for batch_idx, (features, targets) in enumerate(train_loader):\n",
    "        \n",
    "        features = features.to(device)\n",
    "        targets = targets.to(device)\n",
    "        \n",
    "        ### FORWARD AND BACK PROP\n",
    "        logits = model(features)\n",
    "        cost = torch.nn.functional.cross_entropy(logits, targets)\n",
    "        optimizer.zero_grad()\n",
    "        \n",
    "        cost.backward()\n",
    "        \n",
    "        ### UPDATE MODEL PARAMETERS\n",
    "        optimizer.step()\n",
    "        \n",
    "        ### LOGGING\n",
    "        if batch_idx % 10 == 0:\n",
    "            print ('Epoch: %03d/%03d | Batch %03d/%03d | Cost: %.4f' \n",
    "                   %(epoch+1, num_epochs, batch_idx, \n",
    "                     len(train_loader), cost))\n"
   ]
  },
  {
   "cell_type": "code",
   "execution_count": null,
   "id": "890af5aa",
   "metadata": {},
   "outputs": [],
   "source": [
    "def compute_accuracy(model, data_loader):\n",
    "    correct_pred, num_examples = 0, 0\n",
    "    for i, (features, targets) in enumerate(data_loader):            \n",
    "        features = features.to(device)\n",
    "        targets = targets.to(device)\n",
    "        logits = model(features)\n",
    "        _, predicted_labels = torch.max(logits, dim=1) \n",
    "        num_examples += targets.size(0)\n",
    "        correct_pred += (predicted_labels == targets).sum()\n",
    "    return correct_pred.float()/num_examples * 100"
   ]
  },
  {
   "cell_type": "code",
   "execution_count": null,
   "id": "e1b91b3e",
   "metadata": {},
   "outputs": [],
   "source": [
    "model = model.eval() # eval mode to prevent upd. batchnorm params during inference\n",
    "pred = []\n",
    "\n",
    "with torch.set_grad_enabled(False): # save memory during inference\n",
    "    print('Epoch: %03d/%03d training accuracy: %.2f%%' % (\n",
    "          epoch+1, num_epochs, \n",
    "          compute_accuracy(model, train_loader)))\n",
    "    \n",
    "    for batch_idx, (features, targets) in enumerate(test_loader):\n",
    "        print(batch_idx)\n",
    "        features = features.to(device)\n",
    "        targets = targets.to(device)\n",
    "        logits = model(features)[:, 1]\n",
    "        \n",
    "        pred.append(logits)\n",
    "\n",
    "pred = torch.cat(pred, dim=0)\n",
    "print(pred.shape)"
   ]
  },
  {
   "cell_type": "code",
   "execution_count": null,
   "id": "eb173962",
   "metadata": {},
   "outputs": [],
   "source": [
    "print(labels_test.shape)\n",
    "print(len(pred))"
   ]
  },
  {
   "cell_type": "code",
   "execution_count": null,
   "id": "69d2f4ac",
   "metadata": {},
   "outputs": [],
   "source": [
    "fpr_res, tpr_res, thresholds_res = roc_curve(labels_test, pred.cpu())\n",
    "print(fpr_res, tpr_res, thresholds_res)\n",
    "roc_auc_res = auc(fpr_res, tpr_res)"
   ]
  },
  {
   "cell_type": "code",
   "execution_count": null,
   "id": "f09264d7",
   "metadata": {},
   "outputs": [],
   "source": [
    "print(roc_auc_res)"
   ]
  },
  {
   "cell_type": "markdown",
   "id": "e41ee970",
   "metadata": {},
   "source": [
    "# Transformer"
   ]
  },
  {
   "cell_type": "code",
   "execution_count": null,
   "id": "57197a9f",
   "metadata": {},
   "outputs": [],
   "source": [
    "import numpy as np\n",
    "seq_prediction = np.load(\"/Users/jiaming/Desktop/revision/datas/seq_prediction.npy\")\n",
    "y_label = np.load(\"/Users/jiaming/Desktop/revision/datas/seq_y_label.npy\")"
   ]
  },
  {
   "cell_type": "code",
   "execution_count": null,
   "id": "5702260a",
   "metadata": {},
   "outputs": [],
   "source": [
    "fpr_tra, tpr_tra, thresholds_tra = roc_curve(y_label, seq_prediction)\n",
    "roc_auc_tra = auc(fpr_tra, tpr_tra)"
   ]
  },
  {
   "cell_type": "code",
   "execution_count": null,
   "id": "f2ee24be",
   "metadata": {},
   "outputs": [],
   "source": [
    "print(roc_auc_tra)"
   ]
  },
  {
   "cell_type": "markdown",
   "id": "379183fd",
   "metadata": {},
   "source": [
    "# Plot ROC Curve"
   ]
  },
  {
   "cell_type": "code",
   "execution_count": null,
   "id": "a3dccb9c",
   "metadata": {},
   "outputs": [],
   "source": [
    "import matplotlib.pyplot as plt\n",
    "\n",
    "def plot_roc_curve(fpr, tpr, label=None, color=None):\n",
    "\n",
    "    plt.plot([0, 1], [0, 1], 'k--') \n",
    "    plt.xlim([0.0, 1.0])\n",
    "    plt.ylim([0.0, 1.0])\n",
    "    plt.xlabel('False Positive Rate (FPR)')\n",
    "    plt.ylabel('True Positive Rate (TPR)')\n",
    "    plt.title('ROC Curves')\n",
    "\n",
    "    step_x = list(fpr)\n",
    "    step_x.append(1.0)  # Add endpoint for the last step\n",
    "    step_y = list(tpr)\n",
    "    step_y.append(tpr[-1])  # Add endpoint for the last step\n",
    "    \n",
    "    plt.step(step_x, step_y, linewidth=2, label=label, color = color, alpha=0.7)\n",
    "    \n",
    "    plt.legend(loc=\"lower right\")\n",
    "\n",
    "fpr1 = fpr_dp\n",
    "tpr1 = tpr_dp\n",
    "\n",
    "fpr2 = fpr_lr\n",
    "tpr2 = tpr_lr\n",
    "\n",
    "fpr3 = fpr_nb\n",
    "tpr3 = tpr_nb\n",
    "\n",
    "fpr4 = fpr_rf\n",
    "tpr4 = tpr_rf\n",
    "\n",
    "fpr5 = fpr_res\n",
    "tpr5 = tpr_res\n",
    "\n",
    "fpr6 = fpr_tra\n",
    "tpr6 = tpr_tra\n",
    "\n",
    "# Get 5 points for ROC curves\n",
    "# threshold_points = np.linspace(0, 1, 10)\n",
    "# fpr1_points = []\n",
    "# tpr1_points = []\n",
    "# for threshold in threshold_points:\n",
    "#     fpr1_point = fpr1[np.argmin(np.abs(threshold - thresholds_Deep_f5C))]\n",
    "#     tpr1_point = tpr1[np.argmin(np.abs(threshold - thresholds_Deep_f5C))]\n",
    "#     fpr1_points.append(fpr1_point)\n",
    "#     tpr1_points.append(tpr1_point)\n",
    "    \n",
    "# threshold_points = np.linspace(0, 1, 10)\n",
    "# fpr2_points = []\n",
    "# tpr2_points = []\n",
    "# for threshold in threshold_points:\n",
    "#     fpr2_point = fpr2[np.argmin(np.abs(threshold - thresholds_lr))]\n",
    "#     tpr2_point = tpr2[np.argmin(np.abs(threshold - thresholds_lr))]\n",
    "#     fpr2_points.append(fpr2_point)\n",
    "#     tpr2_points.append(tpr2_point)\n",
    "# \n",
    "# threshold_points = np.linspace(0, 1, 10)\n",
    "# fpr3_points = []\n",
    "# tpr3_points = []\n",
    "# for threshold in threshold_points:\n",
    "#     fpr3_point = fpr3[np.argmin(np.abs(threshold - thresholds_nb))]\n",
    "#     tpr3_point = tpr3[np.argmin(np.abs(threshold - thresholds_nb))]\n",
    "#     fpr3_points.append(fpr3_point)\n",
    "#     tpr3_points.append(tpr3_point)\n",
    "#     \n",
    "# threshold_points = np.linspace(0, 1, 10)\n",
    "# fpr4_points = []\n",
    "# tpr4_points = []\n",
    "# for threshold in threshold_points:\n",
    "#     fpr4_point = fpr4[np.argmin(np.abs(threshold - thresholds_rf))]\n",
    "#     tpr4_point = tpr4[np.argmin(np.abs(threshold - thresholds_rf))]\n",
    "#     fpr4_points.append(fpr4_point)\n",
    "#     tpr4_points.append(tpr4_point)\n",
    "\n",
    "# threshold_points = np.linspace(0, 1, 10)\n",
    "# fpr5_points = []\n",
    "# tpr5_points = []\n",
    "# for threshold in threshold_points:\n",
    "#     fpr5_point = fpr5[np.argmin(np.abs(threshold - thresholds_res))]\n",
    "#     tpr5_point = tpr5[np.argmin(np.abs(threshold - thresholds_res))]\n",
    "#     fpr5_points.append(fpr4_point)\n",
    "\n",
    "plot_roc_curve(fpr1, tpr1, label=f'Deep-f5C (AUC = {roc_auc_dp:.2f})', color='b')\n",
    "\n",
    "plot_roc_curve(fpr2, tpr2, label=f'Logistic Regression (AUC = {roc_auc_lr:.2f})', color='g')\n",
    "\n",
    "plot_roc_curve(fpr3, tpr3, label=f'Naive Bayes (AUC = {roc_auc_nb:.2f})', color='r')\n",
    "\n",
    "plot_roc_curve(fpr4, tpr4, label=f'Random Forest (AUC = {roc_auc_rf:.2f})', color='c')\n",
    "\n",
    "plot_roc_curve(fpr5, tpr5, label=f'ResNet (AUC = {roc_auc_res:.2f})', color='m')\n",
    "\n",
    "plot_roc_curve(fpr6, tpr6, label=f'Transformer (AUC = {roc_auc_tra:.2f})', color='y')\n",
    "\n",
    "plt.savefig('combined_5ROC_seq.pdf', format='pdf')\n",
    "\n",
    "plt.show()\n"
   ]
  },
  {
   "cell_type": "code",
   "execution_count": null,
   "id": "5b7747ca",
   "metadata": {},
   "outputs": [],
   "source": []
  },
  {
   "cell_type": "code",
   "execution_count": null,
   "id": "9e9f7853",
   "metadata": {},
   "outputs": [],
   "source": []
  },
  {
   "cell_type": "code",
   "execution_count": null,
   "id": "56636a0e",
   "metadata": {},
   "outputs": [],
   "source": []
  },
  {
   "cell_type": "code",
   "execution_count": null,
   "id": "3695077d",
   "metadata": {},
   "outputs": [],
   "source": []
  },
  {
   "cell_type": "code",
   "execution_count": null,
   "id": "d3eb2c55",
   "metadata": {},
   "outputs": [],
   "source": []
  },
  {
   "cell_type": "code",
   "execution_count": null,
   "id": "8f2c8703",
   "metadata": {},
   "outputs": [],
   "source": [
    "import numpy as np\n",
    "import matplotlib.pyplot as plt\n",
    "from sklearn.model_selection import train_test_split\n",
    "from sklearn.linear_model import LogisticRegression\n",
    "from sklearn.metrics import roc_curve, roc_auc_score, auc\n",
    "\n",
    "np.random.seed(0)\n",
    "X, y = np.random.randn(100, 2), np.random.randint(0, 2, 100)\n",
    "\n",
    "X_train, X_test, y_train, y_test = train_test_split(X, y, test_size=0.3, random_state=42)\n",
    "\n",
    "model = LogisticRegression()\n",
    "model.fit(X_train, y_train)\n",
    "\n",
    "y_pred_prob = model.predict(X_test)\n",
    "print(y_pred_prob)\n",
    "\n",
    "fpr, tpr, thresholds = roc_curve(y_test, y_pred_prob)\n",
    "print(fpr, tpr, thresholds)\n",
    "\n",
    "roc_auc = auc(fpr, tpr)\n",
    "\n",
    "plt.figure(figsize=(8, 6))\n",
    "plt.plot(fpr, tpr, color='darkorange', lw=2, label=f'ROC curve (AUC = {roc_auc:.2f})')\n",
    "plt.plot([0, 1], [0, 1], color='navy', lw=2, linestyle='--')\n",
    "plt.xlim([0.0, 1.0])\n",
    "plt.ylim([0.0, 1.05])\n",
    "plt.xlabel('False Positive Rate')\n",
    "plt.ylabel('True Positive Rate')\n",
    "plt.title('Receiver Operating Characteristic (ROC)')\n",
    "plt.legend(loc='lower right')\n",
    "plt.show()\n"
   ]
  },
  {
   "cell_type": "code",
   "execution_count": null,
   "id": "826881dd",
   "metadata": {},
   "outputs": [],
   "source": [
    "import numpy as np\n",
    "import matplotlib.pyplot as plt\n",
    "from sklearn.model_selection import train_test_split\n",
    "from sklearn.ensemble import RandomForestClassifier\n",
    "from sklearn.metrics import roc_curve, roc_auc_score, auc\n",
    "\n",
    "np.random.seed(0)\n",
    "X, y = np.random.randn(100, 2), np.random.randint(0, 2, 100)\n",
    "\n",
    "X_train, X_test, y_train, y_test = train_test_split(X, y, test_size=0.3, random_state=42)\n",
    "\n",
    "model = RandomForestClassifier(n_estimators=100, random_state=42)\n",
    "model.fit(X_train, y_train)\n",
    "\n",
    "y_pred_prob = model.predict_proba(X_test)[:, 1]\n",
    "print(y_pred_prob.shape)\n",
    "\n",
    "fpr, tpr, thresholds = roc_curve(y_test, y_pred_prob)\n",
    "print(fpr.shape, tpr.shape, thresholds.shape)\n",
    "\n",
    "roc_auc = auc(fpr, tpr)\n",
    "\n",
    "plt.figure(figsize=(8, 6))\n",
    "plt.plot(fpr, tpr, color='darkorange', lw=2, label=f'ROC curve (AUC = {roc_auc:.2f})')\n",
    "plt.plot([0, 1], [0, 1], color='navy', lw=2, linestyle='--')\n",
    "plt.xlim([0.0, 1.0])\n",
    "plt.ylim([0.0, 1.05])\n",
    "plt.xlabel('False Positive Rate')\n",
    "plt.ylabel('True Positive Rate')\n",
    "plt.title('Receiver Operating Characteristic (ROC)')\n",
    "plt.legend(loc='lower right')\n",
    "plt.show()\n"
   ]
  },
  {
   "cell_type": "code",
   "execution_count": null,
   "id": "40eacb33",
   "metadata": {},
   "outputs": [],
   "source": []
  }
 ],
 "metadata": {
  "kernelspec": {
   "display_name": "Python 3 (ipykernel)",
   "language": "python",
   "name": "python3"
  },
  "language_info": {
   "codemirror_mode": {
    "name": "ipython",
    "version": 3
   },
   "file_extension": ".py",
   "mimetype": "text/x-python",
   "name": "python",
   "nbconvert_exporter": "python",
   "pygments_lexer": "ipython3",
   "version": "3.8.17"
  }
 },
 "nbformat": 4,
 "nbformat_minor": 5
}
